{
 "cells": [
  {
   "cell_type": "code",
   "execution_count": null,
   "id": "563dbf09",
   "metadata": {},
   "outputs": [],
   "source": [
    "class Solution:\n",
    "    def strStr(self, haystack: str, needle: str) -> int:\n",
    "        p=len(haystack)\n",
    "        q=len(needle)\n",
    "        ok=False\n",
    "        x=-1\n",
    "        for i in range(len(haystack)):\n",
    "            if needle[0]==haystack[i] and i+q-1<p:\n",
    "                l=i+1\n",
    "                boom=True\n",
    "                for j in range(1,len(needle)):\n",
    "                    if needle[j]!=haystack[l]:\n",
    "                        boom=False\n",
    "                    else:\n",
    "                        l=l+1\n",
    "                if boom:\n",
    "                    ok=True\n",
    "            if ok:\n",
    "                x=i\n",
    "                break\n",
    "        return x  \n"
   ]
  },
  {
   "cell_type": "code",
   "execution_count": 5,
   "id": "960c2e0c",
   "metadata": {},
   "outputs": [
    {
     "name": "stdout",
     "output_type": "stream",
     "text": [
      "0\n",
      "0\n"
     ]
    }
   ],
   "source": [
    "\n",
    "haystack = \"sadbutsad\" \n",
    "needle = \"sad\"\n",
    "p=len(haystack)\n",
    "q=len(needle)\n",
    "ok=False\n",
    "x=-1\n",
    "for i in range(len(haystack)):\n",
    "    if needle[0]==haystack[i] and i+q-1<p:\n",
    "        l=i+1\n",
    "        boom=True\n",
    "        for j in range(1,len(needle)):\n",
    "            if needle[j]!=haystack[l]:\n",
    "                boom=False\n",
    "            else:\n",
    "                l=l+1\n",
    "        if boom:\n",
    "            ok=True\n",
    "    if ok:\n",
    "        x=i\n",
    "        break\n",
    "print(x)\n",
    "x=-99\n",
    "for i in range(q):\n",
    "    if needle[0] == haystack[i] and i + p - 1 < q:\n",
    "        boom = True\n",
    "        l = i + 1\n",
    "        for k in range(1, p):\n",
    "            if needle[k] != haystack[l]:\n",
    "                boom = False\n",
    "            else:\n",
    "                l += 1\n",
    "        if boom:\n",
    "            ok = True\n",
    "\n",
    "    if ok:\n",
    "        x = i\n",
    "        break\n",
    "\n",
    "print(x)      \n",
    "\n"
   ]
  }
 ],
 "metadata": {
  "kernelspec": {
   "display_name": "Python 3",
   "language": "python",
   "name": "python3"
  },
  "language_info": {
   "codemirror_mode": {
    "name": "ipython",
    "version": 3
   },
   "file_extension": ".py",
   "mimetype": "text/x-python",
   "name": "python",
   "nbconvert_exporter": "python",
   "pygments_lexer": "ipython3",
   "version": "3.12.9"
  }
 },
 "nbformat": 4,
 "nbformat_minor": 5
}
